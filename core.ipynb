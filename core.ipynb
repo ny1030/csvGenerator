{
  "nbformat": 4,
  "nbformat_minor": 0,
  "metadata": {
    "colab": {
      "name": "core.ipynb",
      "version": "0.3.2",
      "provenance": [],
      "collapsed_sections": [],
      "include_colab_link": true
    },
    "kernelspec": {
      "name": "python3",
      "display_name": "Python 3"
    }
  },
  "cells": [
    {
      "cell_type": "markdown",
      "metadata": {
        "id": "view-in-github",
        "colab_type": "text"
      },
      "source": [
        "<a href=\"https://colab.research.google.com/github/ny1030/csvGenerator/blob/master/core.ipynb\" target=\"_parent\"><img src=\"https://colab.research.google.com/assets/colab-badge.svg\" alt=\"Open In Colab\"/></a>"
      ]
    },
    {
      "metadata": {
        "id": "Moczy1jJV4Oh",
        "colab_type": "code",
        "colab": {
          "base_uri": "https://localhost:8080/",
          "height": 207
        },
        "outputId": "82f1e52f-6dce-4427-f4fe-4ae522bda699"
      },
      "cell_type": "code",
      "source": [
        "!pip install Faker"
      ],
      "execution_count": 4,
      "outputs": [
        {
          "output_type": "stream",
          "text": [
            "Collecting Faker\n",
            "\u001b[?25l  Downloading https://files.pythonhosted.org/packages/79/36/8e1aa2f775018ea11a897bef32b6f80d78dcb6cc6563744f2e1dcf128b82/Faker-1.0.2-py2.py3-none-any.whl (845kB)\n",
            "\u001b[K    100% |████████████████████████████████| 849kB 6.5MB/s \n",
            "\u001b[?25hCollecting text-unidecode==1.2 (from Faker)\n",
            "\u001b[?25l  Downloading https://files.pythonhosted.org/packages/79/42/d717cc2b4520fb09e45b344b1b0b4e81aa672001dd128c180fabc655c341/text_unidecode-1.2-py2.py3-none-any.whl (77kB)\n",
            "\u001b[K    100% |████████████████████████████████| 81kB 11.2MB/s \n",
            "\u001b[?25hRequirement already satisfied: six>=1.10 in /usr/local/lib/python3.6/dist-packages (from Faker) (1.11.0)\n",
            "Requirement already satisfied: python-dateutil>=2.4 in /usr/local/lib/python3.6/dist-packages (from Faker) (2.5.3)\n",
            "Installing collected packages: text-unidecode, Faker\n",
            "Successfully installed Faker-1.0.2 text-unidecode-1.2\n"
          ],
          "name": "stdout"
        }
      ]
    },
    {
      "metadata": {
        "id": "bEPtAt0gVlRW",
        "colab_type": "code",
        "colab": {}
      },
      "cell_type": "code",
      "source": [
        "#! /usr/bin/env python\n",
        "# -*- coding: utf-8 -*-\n",
        "\n",
        "from faker import Factory\n",
        "from faker.providers import BaseProvider\n",
        "import csv\n",
        "import random\n",
        "import numpy as np\n",
        "\n",
        "NUM_SOUKO_ZAIKO = 107439\n",
        "NUM_SOUKO_IDOU = 5309\n",
        "NUM_SPLIT = 85925\n",
        "NUM_HURIDASHI_IDOU = 14085\n",
        "\n",
        "fake = Factory.create()\n",
        "fake.add_provider(MyStatusProvider)\n",
        "\n",
        "with open(\"warehouse_stock.csv\", \"w+\") as f:\n",
        "\n",
        "    csv_writer = csv.writer(f,delimiter=\",\", quotechar='\"',quoting=csv.QUOTE_ALL)\n",
        "    header = [\"ec_warehouse_code\",\"unity_store_code\",\"l3_item_code\",\"confirmed_stock\",\"priority_stock\",\"inventory_unavailable_for_sale\",\"expected_write_off_inventory\",\"inventory_under_investigation\",\"file_created_date_time\"]\n",
        "    csv_writer.writerow(header)\n",
        "\n",
        "    for i in range(NUM_SOUKO_ZAIKO):\n",
        "        l = [5000,str(fake.random_number(6)).zfill(6),str(fake.random_number(13)).zfill(13),fake.random_number(3),0,0,0,0,\"2018-04-01T13:00:00Z\"]\n",
        "        csv_writer.writerow(l)\n",
        "        \n",
        "with open(\"warehouse_move.csv\", \"w+\") as f:\n",
        "\n",
        "    csv_writer = csv.writer(f,delimiter=\",\", quotechar='\"',quoting=csv.QUOTE_ALL)\n",
        "    header = [\"ec_warehouse_code\",\"unity_store_code\",\"inventory_adjustment_type\",\"transfer_out_instruction_no\",\"mgmt_no\",\"inventory_type\",\"l3_item_code\",\"confirmed_stock\",\"inventory_unavailable_for_sale\",\"expected_write_off_inventory\",\"inventory_under_investigation\",\"created_at\"]\n",
        "    csv_writer.writerow(header)\n",
        "\n",
        "    for i in range(NUM_SOUKO_IDOU):\n",
        "        l = [5000,str(fake.random_number(6)).zfill(6),0,0,str(fake.random_number(17)).zfill(17),1,str(fake.random_number(13)).zfill(13),fake.random_number(3),0,0,0,\"2018-04-01T13:00:00Z\"]\n",
        "        csv_writer.writerow(l)\n",
        "        \n",
        "with open(\"drawer_instruction.csv\", \"w+\") as f:\n",
        "\n",
        "    csv_writer = csv.writer(f,delimiter=\",\", quotechar='\"',quoting=csv.QUOTE_ALL)\n",
        "    header = [\"ec_warehouse_code\",\"unity_store_code\",\"transfer_out_instruction_no\",\"transfer_out_instruction_no_branch_no\",\"voucher_type\",\"fr_shipping_fee_payment_type\",\"shipping_location_type\",\"shipping_location_code\",\"shipping_unity_store_code\",\"shipping_address_postal_code\",\"shipping_address_1\",\"shipping_address_2\",\"shipping_name\",\"shipping_phone_number\",\"l3_item_code\",\"transfer_out_instructed_quantity\",\"expected_shipping_date\",\"expected_arrival_date\",\"arranged_delivery_date\",\"file_created_date_time\",\"comment\"]\n",
        "    csv_writer.writerow(header)\n",
        "\n",
        "    for i in range(NUM_SPLIT):\n",
        "        l = [5000,str(fake.random_number(6)).zfill(6),str(fake.random_number(10)).zfill(10),1,\"S020\",1,\"W\",str(fake.random_number(4)).zfill(4),str(fake.random_number(6)).zfill(6),str(fake.random_number(7)).zfill(7),\"大阪府\",\"堺市堺区築港八幡町1番17\",\"堺倉庫\",fake.phone_number(),str(fake.random_number(13)).zfill(13),fake.random_number(2),\"20180401\",\"20180402\",fake.random_number(3),\"2018-04-01T13:00:00Z\",\"SPLIT\"]\n",
        "        csv_writer.writerow(l)\n",
        "        \n",
        "with open(\"drawer_move.csv\", \"w+\") as f:\n",
        "\n",
        "    csv_writer = csv.writer(f,delimiter=\",\", quotechar='\"',quoting=csv.QUOTE_ALL)\n",
        "    header = [\"ItemCd\",\"Qty\",\"IdentificationFlg\",\"FromManageNo\",\"ManageNo\",\"CreateDate\",\"StockIdentification\",\"ShopCd\"]\n",
        "    csv_writer.writerow(header)\n",
        "\n",
        "    for i in range(NUM_HURIDASHI_IDOU):\n",
        "        l = [str(fake.random_number(13)).zfill(13),fake.random_number(3),1,str(fake.random_number(11)).zfill(11),str(fake.random_number(12)).zfill(12),\"2018-04-01T13:00:00Z\",1,\"5000\"]\n",
        "        csv_writer.writerow(l)"
      ],
      "execution_count": 0,
      "outputs": []
    },
    {
      "metadata": {
        "id": "q8KPO1IQkMU_",
        "colab_type": "text"
      },
      "cell_type": "markdown",
      "source": [
        ""
      ]
    },
    {
      "metadata": {
        "id": "y3O4TNg6dT48",
        "colab_type": "code",
        "colab": {
          "base_uri": "https://localhost:8080/",
          "height": 34
        },
        "outputId": "591b6fdf-b4bb-4916-96d0-a46c5b35494b"
      },
      "cell_type": "code",
      "source": [
        "import numpy as np\n",
        "fake.random_number(6)\n",
        "fake.date()"
      ],
      "execution_count": 31,
      "outputs": [
        {
          "output_type": "execute_result",
          "data": {
            "text/plain": [
              "'1982-09-03'"
            ]
          },
          "metadata": {
            "tags": []
          },
          "execution_count": 31
        }
      ]
    }
  ]
}